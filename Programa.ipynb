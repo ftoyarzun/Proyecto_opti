{
 "cells": [
  {
   "cell_type": "code",
   "execution_count": 326,
   "metadata": {},
   "outputs": [],
   "source": [
    "from astropy.io import ascii\n",
    "import numpy as np\n",
    "import gurobipy as gp\n",
    "from gurobipy import *\n",
    "Placa_madre = ascii.read(\"Opti - Placa Madre (1).dat\")\n",
    "Memorias = ascii.read(\"Opti - RAM (2).dat\")\n",
    "Almacenamiento = ascii.read(\"Opti - Almacenamiento SSD (3).dat\")\n",
    "Procesador = ascii.read(\"Opti - Procesador (4).dat\")\n",
    "Fuente_de_poder = ascii.read(\"Opti - Fuente de poder (5).dat\")\n",
    "Tarjeta_de_video = ascii.read(\"Opti - Tarjeta de video (6).dat\")\n",
    "\n",
    "Componentes = [Placa_madre, Memorias, Almacenamiento, Procesador, Fuente_de_poder, Tarjeta_de_video]\n",
    "tiendas = ['Las Condes','Manuel Montt','Mall Arauco Maipu','Mall Plaza Alameda','Chillan']\n",
    "\n",
    "I_ = range(0, 6)\n",
    "M_ = [range(0, len(Componentes[0])),range(0, len(Componentes[1])),range(0, len(Componentes[2])),\n",
    "     range(0, len(Componentes[3])),range(0, len(Componentes[4])),range(0, len(Componentes[5]))]\n",
    "T_ = range(0, 5)\n",
    "\n",
    "c = {(i,m,t) : Componentes[i]['Precio ($)'][m] for i in I_ for m in M_[i] for t in T_}\n",
    "k = {t : 1 for t in T_}\n",
    "p = {(i,m): Componentes[i]['Potencia (W)'][m] for i in [1,3,4,5] for m in M_[i]}\n",
    "e = {(i,m): Componentes[i]['Especificacion'][m] for i in [1,2,3,5] for m in M_[i]}\n",
    "E = {1: 16, 2: 500, 3: 28.8, 5: 8}\n",
    "r = {m: Componentes[0]['Slots de memoria'][m] for m in M_[0]}\n",
    "a = {m: Componentes[0]['Almacenamiento'][m] for m in M_[0]}\n",
    "S = {(i,m,t): Componentes[i][tiendas[t]][m] for i in I_ for m in M_[i] for t in T_}\n",
    "\n",
    "R = {(1,m): [i for i in range(len(Componentes[1]['Precio ($)'])) if \n",
    "             Componentes[1]['Tipo de memoria'][i] != Componentes[0]['Tipo de memoria'][m] or\n",
    "             Componentes[1]['Frecuencia (MHz)'][i] < Componentes[0]['Velocidad minima (MHz)'][m] or\n",
    "             Componentes[1]['Frecuencia (MHz)'][i] > Componentes[0]['Velocidad maxima (MHz)'][m]   \n",
    "            ]\n",
    "             for m in M_[0]}\n",
    "\n",
    "for m in M_[0]:\n",
    "    R[3,m] = [i for i in range(len(Componentes[3]['Precio ($)'])) if \n",
    "             Componentes[3]['Marca'][i] != Componentes[0]['Plataforma'][m]]\n",
    "    \n",
    "H = {(1,m): [i for i in range(len(Componentes[1]['Precio ($)'])) if \n",
    "             Componentes[1]['Frecuencia (MHz)'][i] > Componentes[3]['Velocidad maxima (MHz)'][m] or\n",
    "             Componentes[1]['Tipo de memoria'][i] != Componentes[3]['Tipos de memoria'][m] + ' DIMM']\n",
    "             for m in M_[3]}\n",
    "\n",
    "phi = {t: 1 for t in T_}\n",
    "\n",
    "\n",
    "l = []\n",
    "for i in I_:\n",
    "    for m in M_[i]:\n",
    "        for t in T_:\n",
    "            l.append((i,m,t))\n",
    "            "
   ]
  },
  {
   "cell_type": "code",
   "execution_count": 327,
   "metadata": {},
   "outputs": [
    {
     "data": {
      "text/plain": [
       "{0: <gurobi.Constr *Awaiting Model Update*>,\n",
       " 1: <gurobi.Constr *Awaiting Model Update*>,\n",
       " 2: <gurobi.Constr *Awaiting Model Update*>,\n",
       " 3: <gurobi.Constr *Awaiting Model Update*>,\n",
       " 4: <gurobi.Constr *Awaiting Model Update*>}"
      ]
     },
     "execution_count": 327,
     "metadata": {},
     "output_type": "execute_result"
    }
   ],
   "source": [
    "# MODELO\n",
    "model = Model(\"Costo_Mínimo_Computador\")\n",
    "            \n",
    "# -------------------------------------------\n",
    "# DEFINICIÓN DE VARIABLES\n",
    "x = model.addVars(l,vtype = GRB.INTEGER, name = \"Componente\", lb = 0.0)\n",
    "y = model.addVars(T_,vtype = GRB.BINARY, name = \"envio\")\n",
    "z = model.addVars(T_,vtype = GRB.BINARY, name = \"envio_gratis\")\n",
    "\n",
    "# -------------------------------------------\n",
    "# RESTRICCIONES\n",
    "\n",
    "# Se debe comprar solo una unidad de algunos componentes\n",
    "model.addConstrs((quicksum(quicksum(x[i,m,t] for m in M_[i]) for t in T_) == 1 for i in [0,3,4]), name = \"Componentes_unitarios\")\n",
    "\n",
    "# Se debe comprar a lo mas una tarjeta de video\n",
    "model.addConstrs((quicksum(quicksum(x[i,m,t] for m in M_[i]) for t in T_) <= 1 for i in [5]), name = \"Componentes_unitarios\")\n",
    "\n",
    "# Respetar el limite de espacios de RAM en la placa madre\n",
    "model.addConstr((quicksum(quicksum(x[1,m,t] for m in M_[1]) for t in T_) <= quicksum(quicksum(r[m] * x[0,m,t] for m in M_[0]) for t in T_)), name = \"Respetar_RAM\")\n",
    "\n",
    "# Respetar el limite de espacios de almacenamiento en la placa madre\n",
    "model.addConstr((quicksum(quicksum(x[2,m,t] for m in M_[2]) for t in T_) <= quicksum(quicksum(a[m] * x[0,m,t] for m in M_[0]) for t in T_)), name = \"Respetar_almacenamiento\")\n",
    "\n",
    "# Especificaciones\n",
    "model.addConstrs((quicksum(quicksum(e[i,m] * x[i,m,t] for m in M_[i]) for t in T_) >= E[i] for i in [1,2,3,5]), name = \"Especificaciones_minimas\")\n",
    "\n",
    "# Respetar el limite de potencia\n",
    "model.addConstr((quicksum(quicksum(quicksum(p[i,m] * x[i,m,t] for m in M_[i]) for t in T_) for i in [1,3,4,5]) >= 0), name = \"Respetar_limite_potencia\")\n",
    "\n",
    "# Cobrar envio\n",
    "A = 1e10\n",
    "model.addConstrs((quicksum(quicksum(x[i,m,t] for m in M_[i]) for i in I_) <= A * y[t] for t in T_), name = \"cobrar_envio\")\n",
    "\n",
    "# envio grtis\n",
    "model.addConstrs((quicksum(quicksum(c[i,m,t] * x[i,m,t] for m in M_[i]) for i in I_) >= phi[t] * z[t] for t in T_), name = \"Envio_gratis\")\n",
    "\n",
    "# compatibilidad placa madre con otros componentes\n",
    "model.addConstrs((A*(1 - quicksum(x[0,m,t] for t in T_)) >= quicksum(x[i,k,t] for t in T_) for m in M_[0] for i in [1,3] for k in R[i,m]), name = \"Compatibilidad_placa_madre\")\n",
    "\n",
    "# compatibilidad procesador con otros componentes\n",
    "model.addConstrs((A*(1 - quicksum(x[3,m,t] for t in T_)) >= quicksum(x[i,k,t] for t in T_) for m in M_[3] for i in [1] for k in H[i,m]), name = \"Compatibilidad_procesador\")\n",
    "\n",
    "# Respetar disponibilidad en tienda\n",
    "model.addConstrs((x[i,m,t] <= S[i,m,t] for i in I_ for m in M_[i] for t in T_), name = 'Stock')\n",
    "\n",
    "\n",
    "# Naturaleza variables\n",
    "model.addConstrs((x[i,m,t] >= 0 for i in I_ for m in M_[i] for t in T_),name = \"Naturaleza_x_it\")\n",
    "model.addConstrs((y[t] >= 0 for t in T_),name = \"Naturaleza_y_it\")                 \n",
    "model.addConstrs((z[t] >= 0 for t in T_),name = \"Naturaleza_z_ijt\")  \n",
    "# como ya fue definido antes que z era variable binaria, es necesario poner su restriccion de naturaleza?\n",
    "#model.addConstrs((z[i,t]=?),name = \"Naturaleza z_it\")"
   ]
  },
  {
   "cell_type": "code",
   "execution_count": 328,
   "metadata": {},
   "outputs": [
    {
     "name": "stdout",
     "output_type": "stream",
     "text": [
      "Gurobi Optimizer version 9.0.3 build v9.0.3rc0 (win64)\n",
      "Optimize a model with 1910 rows, 655 columns and 10285 nonzeros\n",
      "Model fingerprint: 0xb13e3a41\n",
      "Variable types: 0 continuous, 655 integer (10 binary)\n",
      "Coefficient statistics:\n",
      "  Matrix range     [1e+00, 1e+10]\n",
      "  Objective range  [1e+00, 5e+05]\n",
      "  Bounds range     [1e+00, 1e+00]\n",
      "  RHS range        [1e+00, 1e+10]\n",
      "Warning: Model contains large matrix coefficients\n",
      "Warning: Model contains large rhs\n",
      "         Consider reformulating model or setting NumericFocus parameter\n",
      "         to avoid numerical issues.\n",
      "Presolve removed 1892 rows and 583 columns\n",
      "Presolve time: 0.02s\n",
      "Presolved: 18 rows, 72 columns, 266 nonzeros\n",
      "Variable types: 0 continuous, 72 integer (42 binary)\n",
      "Found heuristic solution: objective 1098970.0000\n",
      "Found heuristic solution: objective 1088470.0000\n",
      "Found heuristic solution: objective 964520.00000\n",
      "\n",
      "Root relaxation: objective 9.329253e+05, 31 iterations, 0.00 seconds\n",
      "\n",
      "    Nodes    |    Current Node    |     Objective Bounds      |     Work\n",
      " Expl Unexpl |  Obj  Depth IntInf | Incumbent    BestBd   Gap | It/Node Time\n",
      "\n",
      "     0     0 932925.304    0    5 964520.000 932925.304  3.28%     -    0s\n",
      "H    0     0                    932930.00000 932925.304  0.00%     -    0s\n",
      "\n",
      "Explored 1 nodes (31 simplex iterations) in 0.06 seconds\n",
      "Thread count was 4 (of 4 available processors)\n",
      "\n",
      "Solution count 4: 932930 964520 1.08847e+06 1.09897e+06 \n",
      "\n",
      "Optimal solution found (tolerance 1.00e-04)\n",
      "Best objective 9.329300000000e+05, best bound 9.329253037393e+05, gap 0.0005%\n"
     ]
    }
   ],
   "source": [
    "obj = quicksum((y[t] - z[t])*k[t]  + quicksum(quicksum(c[i,m,t] * x[i,m,t] for m in M_[i]) for i in I_) for t in T_)\n",
    "                 \n",
    "model.setObjective(obj, GRB.MINIMIZE)\n",
    "                 \n",
    "\n",
    "# Actualizar modelo\n",
    "model.update()\n",
    "       \n",
    "# Escribir formulación\n",
    "model.write(\"Modelo {}.lp\".format(model.ModelName)) \n",
    "\n",
    "# Optimizar\n",
    "model.optimize()\n",
    "\n",
    "\n",
    "\n",
    "#################################"
   ]
  },
  {
   "cell_type": "code",
   "execution_count": 329,
   "metadata": {},
   "outputs": [
    {
     "name": "stdout",
     "output_type": "stream",
     "text": [
      "\n",
      "### Ganancia óptima: 932930.0 calculado en 0.07695770263671875 segundos. ###\n",
      "\n"
     ]
    }
   ],
   "source": [
    "# Mostrar resultados\n",
    "print(f\"\\n### Ganancia óptima: {model.objVal} calculado en {model.runtime} segundos. ###\\n\")"
   ]
  },
  {
   "cell_type": "code",
   "execution_count": 330,
   "metadata": {},
   "outputs": [
    {
     "name": "stdout",
     "output_type": "stream",
     "text": [
      "\n",
      "    Variable            x \n",
      "-------------------------\n",
      "Componente[0,10,2]            1 \n",
      "Componente[1,10,0]            1 \n",
      "Componente[1,12,0]            1 \n",
      "Componente[2,14,0]            1 \n",
      "Componente[3,19,3]            1 \n",
      "Componente[4,0,4]            1 \n",
      "Componente[5,12,1]            1 \n",
      "    envio[0]            1 \n",
      "    envio[1]            1 \n",
      "    envio[2]            1 \n",
      "    envio[3]            1 \n",
      "    envio[4]            1 \n",
      "envio_gratis[0]            1 \n",
      "envio_gratis[1]            1 \n",
      "envio_gratis[2]            1 \n",
      "envio_gratis[3]            1 \n",
      "envio_gratis[4]            1 \n"
     ]
    }
   ],
   "source": [
    "model.printAttr(\"x\") # all non-zero solution values"
   ]
  },
  {
   "cell_type": "code",
   "execution_count": 331,
   "metadata": {},
   "outputs": [
    {
     "name": "stdout",
     "output_type": "stream",
     "text": [
      "38613\n",
      "37040\n",
      "8\n",
      "32318\n",
      "8\n",
      "29235\n",
      "500\n",
      "37819\n",
      "31.2\n",
      "25576\n",
      "37351\n",
      "8\n"
     ]
    }
   ],
   "source": [
    "for i in I_:\n",
    "    for m in M_[i]:\n",
    "        for t in T_:\n",
    "            if x[i,m,t].x>0:\n",
    "                print(Componentes[i]['ID'][m])\n",
    "                if i in [1,2,3,5]:\n",
    "                    print(Componentes[i]['Especificacion'][m])"
   ]
  },
  {
   "cell_type": "code",
   "execution_count": null,
   "metadata": {},
   "outputs": [],
   "source": []
  }
 ],
 "metadata": {
  "kernelspec": {
   "display_name": "Python 3",
   "language": "python",
   "name": "python3"
  },
  "language_info": {
   "codemirror_mode": {
    "name": "ipython",
    "version": 3
   },
   "file_extension": ".py",
   "mimetype": "text/x-python",
   "name": "python",
   "nbconvert_exporter": "python",
   "pygments_lexer": "ipython3",
   "version": "3.8.5"
  }
 },
 "nbformat": 4,
 "nbformat_minor": 4
}
