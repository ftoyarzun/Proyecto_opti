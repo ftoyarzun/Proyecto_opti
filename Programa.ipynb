{
 "cells": [
  {
   "cell_type": "code",
   "execution_count": 520,
   "metadata": {},
   "outputs": [],
   "source": [
    "from astropy.io import ascii\n",
    "import numpy as np\n",
    "import gurobipy as gp\n",
    "from gurobipy import *\n",
    "import random\n",
    "\n",
    "random.seed(10)\n",
    "\n",
    "Placa_madre = ascii.read(\"Opti - Placa Madre (1).dat\")\n",
    "Memorias = ascii.read(\"Opti - RAM (2).dat\")\n",
    "Almacenamiento = ascii.read(\"Opti - Almacenamiento SSD (3).dat\")\n",
    "Procesador = ascii.read(\"Opti - Procesador (4).dat\")\n",
    "Fuente_de_poder = ascii.read(\"Opti - Fuente de poder (5).dat\")\n",
    "Tarjeta_de_video = ascii.read(\"Opti - Tarjeta de video (6).dat\")\n",
    "Gabinete = ascii.read(\"Opti - Gabinete (7).dat\")\n",
    "\n",
    "Componentes = [Placa_madre, Memorias, Almacenamiento, Procesador, Fuente_de_poder, Tarjeta_de_video, Gabinete]\n",
    "comps = [\"Placa madre\", \"Memoria\", \"SSD\", \"CPU\", \"Fuente de poder\", \"Tarjeta de video\", \"Gabinete\"]\n",
    "tiendas = ['Las Condes','Manuel Montt','Mall Arauco Maipu','Mall Plaza Alameda','Chillan']\n",
    "\n",
    "I_ = range(0, 7)\n",
    "M_ = [range(0, len(Componentes[0])),range(0, len(Componentes[1])),range(0, len(Componentes[2])),\n",
    "     range(0, len(Componentes[3])),range(0, len(Componentes[4])),range(0, len(Componentes[5])), range(0, len(Componentes[6]))]\n",
    "T_ = range(0, 5)\n",
    "\n",
    "c = {(i,m,t) : Componentes[i]['Precio ($)'][m] for i in I_ for m in M_[i] for t in T_}\n",
    "k = {t : 1 for t in T_}\n",
    "p = {(i,m): Componentes[i]['Potencia (W)'][m] for i in [1,3,4,5] for m in M_[i]}\n",
    "e = {(i,m): Componentes[i]['Especificacion'][m] for i in [1,2,3,5] for m in M_[i]}\n",
    "E = {1: 8, 2: 500, 3: 4*3.7, 5: 1}\n",
    "r = {m: Componentes[0]['Slots de memoria'][m] for m in M_[0]}\n",
    "a = {m: Componentes[0]['Almacenamiento'][m] for m in M_[0]}\n",
    "S = {(i,m,t): Componentes[i][tiendas[t]][m] for i in I_ for m in M_[i] for t in T_}\n",
    "f = {(i,m): Componentes[i]['Factor de forma'][m] for i in [0,4,6] for m in M_[i]}\n",
    "tam = {(i,m): Componentes[i]['Tamano de tarjeta'][m] for i in [5,6] for m in M_[i]}\n",
    "sl = {(i,m): Componentes[i]['Uso de slots'][m] for i in [5,6] for m in M_[i]}\n",
    "\n",
    "R = {(1,m): [i for i in range(len(Componentes[1]['Precio ($)'])) if \n",
    "             Componentes[1]['Tipo de memoria'][i] != Componentes[0]['Tipo de memoria'][m] or\n",
    "             Componentes[1]['Frecuencia (MHz)'][i] < Componentes[0]['Velocidad minima (MHz)'][m] or\n",
    "             Componentes[1]['Frecuencia (MHz)'][i] > Componentes[0]['Velocidad maxima (MHz)'][m]   \n",
    "            ]\n",
    "             for m in M_[0]}\n",
    "\n",
    "for m in M_[0]:\n",
    "    R[3,m] = [i for i in range(len(Componentes[3]['Precio ($)'])) if \n",
    "             Componentes[3]['Marca'][i] != Componentes[0]['Plataforma'][m]]\n",
    "    \n",
    "H = {(1,m): [i for i in range(len(Componentes[1]['Precio ($)'])) if \n",
    "             Componentes[1]['Frecuencia (MHz)'][i] > Componentes[3]['Velocidad maxima (MHz)'][m] or\n",
    "             Componentes[1]['Tipo de memoria'][i] != Componentes[3]['Tipos de memoria'][m] + ' DIMM']\n",
    "             for m in M_[3]}\n",
    "\n",
    "phi = {t: 1 for t in T_}\n",
    "\n",
    "\n",
    "l = []\n",
    "for i in I_:\n",
    "    for m in M_[i]:\n",
    "        for t in T_:\n",
    "            l.append((i,m,t))\n",
    "            "
   ]
  },
  {
   "cell_type": "code",
   "execution_count": 521,
   "metadata": {},
   "outputs": [
    {
     "data": {
      "text/plain": [
       "{0: <gurobi.Constr *Awaiting Model Update*>,\n",
       " 1: <gurobi.Constr *Awaiting Model Update*>,\n",
       " 2: <gurobi.Constr *Awaiting Model Update*>,\n",
       " 3: <gurobi.Constr *Awaiting Model Update*>,\n",
       " 4: <gurobi.Constr *Awaiting Model Update*>}"
      ]
     },
     "execution_count": 521,
     "metadata": {},
     "output_type": "execute_result"
    }
   ],
   "source": [
    "# MODELO\n",
    "model = Model(\"Costo_Mínimo_Computador\")\n",
    "            \n",
    "# -------------------------------------------\n",
    "# DEFINICIÓN DE VARIABLES\n",
    "x = model.addVars(l,vtype = GRB.INTEGER, name = \"Componente\", lb = 0.0)\n",
    "y = model.addVars(T_,vtype = GRB.BINARY, name = \"envio\")\n",
    "z = model.addVars(T_,vtype = GRB.BINARY, name = \"envio_gratis\")\n",
    "\n",
    "# -------------------------------------------\n",
    "# RESTRICCIONES\n",
    "\n",
    "# Se debe comprar solo una unidad de algunos componentes\n",
    "model.addConstrs((quicksum(quicksum(x[i,m,t] for m in M_[i]) for t in T_) == 1 for i in [0,3,4,6]), name = \"Componentes_unitarios\")\n",
    "\n",
    "# Se debe comprar a lo mas una tarjeta de video\n",
    "model.addConstrs((quicksum(quicksum(x[i,m,t] for m in M_[i]) for t in T_) <= 1 for i in [5]), name = \"Componentes_unitarios\")\n",
    "\n",
    "# Respetar el limite de espacios de RAM en la placa madre\n",
    "model.addConstr((quicksum(quicksum(x[1,m,t] for m in M_[1]) for t in T_) <= quicksum(quicksum(r[m] * x[0,m,t] for m in M_[0]) for t in T_)), name = \"Respetar_RAM\")\n",
    "\n",
    "# Respetar el limite de espacios de almacenamiento en la placa madre\n",
    "model.addConstr((quicksum(quicksum(x[2,m,t] for m in M_[2]) for t in T_) <= quicksum(quicksum(a[m] * x[0,m,t] for m in M_[0]) for t in T_)), name = \"Respetar_almacenamiento\")\n",
    "\n",
    "# Especificaciones\n",
    "model.addConstrs((quicksum(quicksum(e[i,m] * x[i,m,t] for m in M_[i]) for t in T_) >= E[i] for i in [1,2,3,5]), name = \"Especificaciones_minimas\")\n",
    "\n",
    "# Respetar el limite de potencia\n",
    "model.addConstr((quicksum(quicksum(quicksum(p[i,m] * x[i,m,t] for m in M_[i]) for t in T_) for i in [1,3,4,5]) >= 0), name = \"Respetar_limite_potencia\")\n",
    "\n",
    "# Cobrar envio\n",
    "A = 1e10\n",
    "model.addConstrs((quicksum(quicksum(x[i,m,t] for m in M_[i]) for i in I_) <= A * y[t] for t in T_), name = \"cobrar_envio\")\n",
    "\n",
    "# envio grtis\n",
    "model.addConstrs((quicksum(quicksum(c[i,m,t] * x[i,m,t] for m in M_[i]) for i in I_) >= phi[t] * z[t] for t in T_), name = \"Envio_gratis\")\n",
    "\n",
    "# compatibilidad placa madre con otros componentes\n",
    "model.addConstrs((A*(1 - quicksum(x[0,m,t] for t in T_)) >= quicksum(x[i,k,t] for t in T_) for m in M_[0] for i in [1,3] for k in R[i,m]), name = \"Compatibilidad_placa_madre\")\n",
    "\n",
    "# compatibilidad procesador con otros componentes\n",
    "model.addConstrs((A*(1 - quicksum(x[3,m,t] for t in T_)) >= quicksum(x[i,k,t] for t in T_) for m in M_[3] for i in [1] for k in H[i,m]), name = \"Compatibilidad_procesador\")\n",
    "\n",
    "# Respetar disponibilidad en tienda\n",
    "model.addConstrs((x[i,m,t] <= S[i,m,t] for i in I_ for m in M_[i] for t in T_), name = 'Stock')\n",
    "\n",
    "# Respetar factor de forma del gabinete\n",
    "model.addConstrs((quicksum(quicksum(f[6,m]*x[6,m,t] for m in M_[6]) for t in T_) >= quicksum(quicksum(f[i,m]*x[i,m,t] for m in M_[i]) for t in T_) for i in [0,4]), name = 'Factor_de_forma')\n",
    "\n",
    "# Respetar largo de tarjeta de video\n",
    "model.addConstr((quicksum(quicksum(tam[6,m]*x[6,m,t] for m in M_[6]) for t in T_) >= quicksum(quicksum(tam[5,m]*x[5,m,t] for m in M_[5]) for t in T_)), name = 'Respetar_largo_tarjeta_de_video')\n",
    "\n",
    "# Respetar ancho de tarjeta de video\n",
    "model.addConstr((quicksum(quicksum(sl[6,m]*x[6,m,t] for m in M_[6]) for t in T_) >= quicksum(quicksum(sl[5,m]*x[5,m,t] for m in M_[5]) for t in T_)), name = 'Respetar_ancho_tarjeta_de_video')\n",
    "\n",
    "\n",
    "# Naturaleza variables\n",
    "model.addConstrs((x[i,m,t] >= 0 for i in I_ for m in M_[i] for t in T_),name = \"Naturaleza_x_it\")\n",
    "model.addConstrs((y[t] >= 0 for t in T_),name = \"Naturaleza_y_it\")                 \n",
    "model.addConstrs((z[t] >= 0 for t in T_),name = \"Naturaleza_z_ijt\")  \n",
    "# como ya fue definido antes que z era variable binaria, es necesario poner su restriccion de naturaleza?\n",
    "#model.addConstrs((z[i,t]=?),name = \"Naturaleza z_it\")"
   ]
  },
  {
   "cell_type": "code",
   "execution_count": 522,
   "metadata": {},
   "outputs": [
    {
     "name": "stdout",
     "output_type": "stream",
     "text": [
      "Gurobi Optimizer version 9.0.3 build v9.0.3rc0 (win64)\n",
      "Optimize a model with 2259 rows, 760 columns and 13050 nonzeros\n",
      "Model fingerprint: 0x93204ef9\n",
      "Variable types: 0 continuous, 760 integer (10 binary)\n",
      "Coefficient statistics:\n",
      "  Matrix range     [1e+00, 1e+10]\n",
      "  Objective range  [1e+00, 5e+05]\n",
      "  Bounds range     [1e+00, 1e+00]\n",
      "  RHS range        [1e+00, 1e+10]\n",
      "Warning: Model contains large matrix coefficients\n",
      "Warning: Model contains large rhs\n",
      "         Consider reformulating model or setting NumericFocus parameter\n",
      "         to avoid numerical issues.\n",
      "Presolve removed 2086 rows and 576 columns\n",
      "Presolve time: 0.05s\n",
      "Presolved: 173 rows, 184 columns, 1475 nonzeros\n",
      "Variable types: 0 continuous, 184 integer (150 binary)\n",
      "Found heuristic solution: objective 520480.00000\n",
      "\n",
      "Root relaxation: objective 4.310428e+05, 26 iterations, 0.00 seconds\n",
      "\n",
      "    Nodes    |    Current Node    |     Objective Bounds      |     Work\n",
      " Expl Unexpl |  Obj  Depth IntInf | Incumbent    BestBd   Gap | It/Node Time\n",
      "\n",
      "     0     0 431042.842    0   14 520480.000 431042.842  17.2%     -    0s\n",
      "H    0     0                    455630.00000 431042.842  5.40%     -    0s\n",
      "     0     0 433450.000    0    6 455630.000 433450.000  4.87%     -    0s\n",
      "     0     0 433450.000    0   20 455630.000 433450.000  4.87%     -    0s\n",
      "     0     0 435528.750    0   16 455630.000 435528.750  4.41%     -    0s\n",
      "H    0     0                    440330.00000 435528.750  1.09%     -    0s\n",
      "     0     0 435761.667    0   14 440330.000 435761.667  1.04%     -    0s\n",
      "     0     0 438125.000    0    5 440330.000 438125.000  0.50%     -    0s\n",
      "     0     0 infeasible    0      440330.000 440330.000  0.00%     -    0s\n",
      "\n",
      "Explored 1 nodes (125 simplex iterations) in 0.17 seconds\n",
      "Thread count was 4 (of 4 available processors)\n",
      "\n",
      "Solution count 3: 440330 455630 520480 \n",
      "\n",
      "Optimal solution found (tolerance 1.00e-04)\n",
      "Best objective 4.403300000000e+05, best bound 4.403300000000e+05, gap 0.0000%\n"
     ]
    }
   ],
   "source": [
    "obj = quicksum((y[t] - z[t])*k[t]  + quicksum(quicksum(c[i,m,t] * x[i,m,t] for m in M_[i]) for i in I_) for t in T_)\n",
    "                 \n",
    "model.setObjective(obj, GRB.MINIMIZE)\n",
    "                 \n",
    "\n",
    "# Actualizar modelo\n",
    "model.update()\n",
    "       \n",
    "# Escribir formulación\n",
    "model.write(\"Modelo {}.lp\".format(model.ModelName)) \n",
    "\n",
    "# Optimizar\n",
    "model.optimize()\n",
    "\n",
    "\n",
    "\n",
    "#################################"
   ]
  },
  {
   "cell_type": "code",
   "execution_count": 523,
   "metadata": {},
   "outputs": [
    {
     "name": "stdout",
     "output_type": "stream",
     "text": [
      "\n",
      "### Ganancia óptima: 440330.0 calculado en 0.18989181518554688 segundos. ###\n",
      "\n"
     ]
    }
   ],
   "source": [
    "# Mostrar resultados\n",
    "print(f\"\\n### Ganancia óptima: {model.objVal} calculado en {model.runtime} segundos. ###\\n\")"
   ]
  },
  {
   "cell_type": "code",
   "execution_count": 524,
   "metadata": {},
   "outputs": [
    {
     "name": "stdout",
     "output_type": "stream",
     "text": [
      "\n",
      "    Variable            x \n",
      "-------------------------\n",
      "Componente[0,1,1]            1 \n",
      "Componente[1,10,0]            1 \n",
      "Componente[2,14,0]            1 \n",
      "Componente[3,10,1]            1 \n",
      "Componente[4,0,1]            1 \n",
      "Componente[5,0,4]            1 \n",
      "Componente[6,1,3]            1 \n",
      "    envio[0]            1 \n",
      "    envio[1]            1 \n",
      "    envio[3]            1 \n",
      "    envio[4]            1 \n",
      "envio_gratis[0]            1 \n",
      "envio_gratis[1]            1 \n",
      "envio_gratis[3]            1 \n",
      "envio_gratis[4]            1 \n"
     ]
    }
   ],
   "source": [
    "model.printAttr(\"x\") # all non-zero solution values"
   ]
  },
  {
   "cell_type": "code",
   "execution_count": 525,
   "metadata": {},
   "outputs": [
    {
     "name": "stdout",
     "output_type": "stream",
     "text": [
      "Compra la Placa madre ID 36926 en la sucursal en Manuel Montt\n",
      "Compra la Memoria ID 37040 en la sucursal en Las Condes\n",
      "Compra la SSD ID 29235 en la sucursal en Las Condes\n",
      "Compra la CPU ID 32738 en la sucursal en Manuel Montt\n",
      "Compra la Fuente de poder ID 25210 en la sucursal en Manuel Montt\n",
      "Compra la Tarjeta de video ID 35236 en la sucursal en Chillan y de paso compra unas longanizas\n",
      "Compra la Gabinete ID 36559 en la sucursal en Mall Plaza Alameda\n",
      "Con un costo total de 440330.0\n"
     ]
    }
   ],
   "source": [
    "for i in I_:\n",
    "    for m in M_[i]:\n",
    "        for t in T_:\n",
    "            if x[i,m,t].x>0:\n",
    "                if tiendas[t] != 'Chillan':\n",
    "                    print('Compra la {} ID {} en la sucursal en {}'.format(comps[i],Componentes[i]['ID'][m], tiendas[t]))\n",
    "                else:\n",
    "                    print('Compra la {} ID {} en la sucursal en {} y de paso compra unas longanizas'.format(comps[i],Componentes[i]['ID'][m], tiendas[t]))\n",
    "\n",
    "print('Con un costo total de {}'.format(model.objVal))                "
   ]
  },
  {
   "cell_type": "code",
   "execution_count": 406,
   "metadata": {},
   "outputs": [
    {
     "ename": "SyntaxError",
     "evalue": "invalid syntax (<ipython-input-406-29eb34a1e62f>, line 1)",
     "output_type": "error",
     "traceback": [
      "\u001b[1;36m  File \u001b[1;32m\"<ipython-input-406-29eb34a1e62f>\"\u001b[1;36m, line \u001b[1;32m1\u001b[0m\n\u001b[1;33m    r y de paso compra unas longanizas\u001b[0m\n\u001b[1;37m      ^\u001b[0m\n\u001b[1;31mSyntaxError\u001b[0m\u001b[1;31m:\u001b[0m invalid syntax\n"
     ]
    }
   ],
   "source": [
    "r y de paso compra unas longanizas"
   ]
  },
  {
   "cell_type": "code",
   "execution_count": 463,
   "metadata": {},
   "outputs": [
    {
     "data": {
      "text/html": [
       "<i>Table length=38</i>\n",
       "<table id=\"table2106505441392\" class=\"table-striped table-bordered table-condensed\">\n",
       "<thead><tr><th>ID</th><th>MARCA</th><th>GPU</th><th>Las Condes</th><th>Manuel Montt</th><th>Mall Arauco Maipu</th><th>Mall Plaza Alameda</th><th>Chillan</th><th>Precio ($)</th><th>TIPO DE MEMORIA</th><th>Memoria</th><th>Potencia (W)</th><th>Especificacion</th><th>Tamano de tajeta</th><th>Uso de slots</th></tr></thead>\n",
       "<thead><tr><th>int32</th><th>str8</th><th>str6</th><th>int32</th><th>int32</th><th>int32</th><th>int32</th><th>int32</th><th>int32</th><th>str5</th><th>int32</th><th>int32</th><th>int32</th><th>int32</th><th>int32</th></tr></thead>\n",
       "<tr><td>35236</td><td>Galax</td><td>NVIDIA</td><td>0</td><td>0</td><td>0</td><td>0</td><td>1</td><td>49990</td><td>DDR3</td><td>1</td><td>-300</td><td>1</td><td>1</td><td>1</td></tr>\n",
       "<tr><td>38685</td><td>Gigabyte</td><td>NVIDIA</td><td>5</td><td>0</td><td>0</td><td>3</td><td>2</td><td>52190</td><td>GDDR5</td><td>2</td><td>-300</td><td>2</td><td>1</td><td>1</td></tr>\n",
       "<tr><td>28507</td><td>MSI</td><td>NVIDIA</td><td>1</td><td>0</td><td>0</td><td>0</td><td>0</td><td>54990</td><td>DDR3</td><td>1</td><td>-19</td><td>1</td><td>1</td><td>1</td></tr>\n",
       "<tr><td>36075</td><td>Asus</td><td>NVIDIA</td><td>7</td><td>8</td><td>6</td><td>6</td><td>3</td><td>59990</td><td>GDDR5</td><td>1</td><td>-19</td><td>1</td><td>1</td><td>1</td></tr>\n",
       "<tr><td>35258</td><td>Asus</td><td>NVIDIA</td><td>1</td><td>0</td><td>0</td><td>0</td><td>1</td><td>64990</td><td>GDDR5</td><td>2</td><td>-19</td><td>2</td><td>1</td><td>1</td></tr>\n",
       "<tr><td>37862</td><td>PNY</td><td>NVIDIA</td><td>1</td><td>0</td><td>0</td><td>0</td><td>1</td><td>139990</td><td>GDDR5</td><td>2</td><td>-30</td><td>2</td><td>1</td><td>1</td></tr>\n",
       "<tr><td>36974</td><td>AMD</td><td>AMD</td><td>0</td><td>0</td><td>0</td><td>0</td><td>1</td><td>163390</td><td>GDDR5</td><td>2</td><td>-35</td><td>2</td><td>2</td><td>2</td></tr>\n",
       "<tr><td>29276</td><td>Gigabyte</td><td>NVIDIA</td><td>3</td><td>2</td><td>0</td><td>3</td><td>0</td><td>169990</td><td>GDDR5</td><td>4</td><td>-300</td><td>4</td><td>2</td><td>2</td></tr>\n",
       "<tr><td>38684</td><td>Gigabyte</td><td>NVIDIA</td><td>5</td><td>6</td><td>1</td><td>0</td><td>2</td><td>171690</td><td>GDDR6</td><td>4</td><td>-300</td><td>4</td><td>1</td><td>1</td></tr>\n",
       "<tr><td>37920</td><td>PNY</td><td>NVIDIA</td><td>7</td><td>8</td><td>1</td><td>4</td><td>0</td><td>199990</td><td>GDDR6</td><td>4</td><td>-75</td><td>4</td><td>2</td><td>2</td></tr>\n",
       "<tr><td>...</td><td>...</td><td>...</td><td>...</td><td>...</td><td>...</td><td>...</td><td>...</td><td>...</td><td>...</td><td>...</td><td>...</td><td>...</td><td>...</td><td>...</td></tr>\n",
       "<tr><td>37104</td><td>Asus</td><td>AMD</td><td>0</td><td>0</td><td>1</td><td>0</td><td>0</td><td>269990</td><td>GDDR6</td><td>8</td><td>-450</td><td>8</td><td>2</td><td>2</td></tr>\n",
       "<tr><td>37782</td><td>Asus</td><td>NVIDIA</td><td>1</td><td>0</td><td>0</td><td>0</td><td>0</td><td>269990</td><td>GDDR6</td><td>4</td><td>-350</td><td>4</td><td>2</td><td>2</td></tr>\n",
       "<tr><td>36444</td><td>PNY</td><td>NVIDIA</td><td>3</td><td>6</td><td>2</td><td>2</td><td>1</td><td>289990</td><td>GDDR6</td><td>6</td><td>-125</td><td>6</td><td>1</td><td>2</td></tr>\n",
       "<tr><td>38282</td><td>MSI</td><td>NVIDIA</td><td>1</td><td>2</td><td>3</td><td>3</td><td>1</td><td>299990</td><td>GDDR6</td><td>6</td><td>-125</td><td>6</td><td>2</td><td>2</td></tr>\n",
       "<tr><td>37103</td><td>Asus</td><td>NVIDIA</td><td>2</td><td>1</td><td>2</td><td>1</td><td>0</td><td>299990</td><td>GDDR6</td><td>6</td><td>-450</td><td>6</td><td>1</td><td>2</td></tr>\n",
       "<tr><td>35153</td><td>PNY</td><td>NVIDIA</td><td>0</td><td>0</td><td>0</td><td>1</td><td>0</td><td>309990</td><td>GDDR6</td><td>6</td><td>-450</td><td>6</td><td>1</td><td>2</td></tr>\n",
       "<tr><td>35863</td><td>Asus</td><td>NVIDIA</td><td>1</td><td>1</td><td>1</td><td>1</td><td>1</td><td>369990</td><td>GDDR6</td><td>6</td><td>-450</td><td>6</td><td>2</td><td>2</td></tr>\n",
       "<tr><td>32543</td><td>MSI</td><td>NVIDIA</td><td>0</td><td>1</td><td>0</td><td>0</td><td>0</td><td>369990</td><td>GDDR6</td><td>6</td><td>-120</td><td>6</td><td>2</td><td>2</td></tr>\n",
       "<tr><td>37783</td><td>Asus</td><td>NVIDIA</td><td>1</td><td>5</td><td>2</td><td>3</td><td>1</td><td>374990</td><td>GDDR6</td><td>6</td><td>-450</td><td>6</td><td>2</td><td>2</td></tr>\n",
       "<tr><td>32542</td><td>MSI</td><td>NVIDIA</td><td>0</td><td>0</td><td>0</td><td>0</td><td>1</td><td>379990</td><td>GDDR6</td><td>6</td><td>-130</td><td>6</td><td>2</td><td>2</td></tr>\n",
       "</table>"
      ],
      "text/plain": [
       "<Table length=38>\n",
       "  ID   MARCA    GPU   ... Especificacion Tamano de tajeta Uso de slots\n",
       "int32   str8    str6  ...     int32           int32          int32    \n",
       "----- -------- ------ ... -------------- ---------------- ------------\n",
       "35236    Galax NVIDIA ...              1                1            1\n",
       "38685 Gigabyte NVIDIA ...              2                1            1\n",
       "28507      MSI NVIDIA ...              1                1            1\n",
       "36075     Asus NVIDIA ...              1                1            1\n",
       "35258     Asus NVIDIA ...              2                1            1\n",
       "37862      PNY NVIDIA ...              2                1            1\n",
       "36974      AMD    AMD ...              2                2            2\n",
       "29276 Gigabyte NVIDIA ...              4                2            2\n",
       "38684 Gigabyte NVIDIA ...              4                1            1\n",
       "37920      PNY NVIDIA ...              4                2            2\n",
       "  ...      ...    ... ...            ...              ...          ...\n",
       "37104     Asus    AMD ...              8                2            2\n",
       "37782     Asus NVIDIA ...              4                2            2\n",
       "36444      PNY NVIDIA ...              6                1            2\n",
       "38282      MSI NVIDIA ...              6                2            2\n",
       "37103     Asus NVIDIA ...              6                1            2\n",
       "35153      PNY NVIDIA ...              6                1            2\n",
       "35863     Asus NVIDIA ...              6                2            2\n",
       "32543      MSI NVIDIA ...              6                2            2\n",
       "37783     Asus NVIDIA ...              6                2            2\n",
       "32542      MSI NVIDIA ...              6                2            2"
      ]
     },
     "execution_count": 463,
     "metadata": {},
     "output_type": "execute_result"
    }
   ],
   "source": [
    "Componentes[5]['Tamano de ']"
   ]
  },
  {
   "cell_type": "code",
   "execution_count": null,
   "metadata": {},
   "outputs": [],
   "source": []
  }
 ],
 "metadata": {
  "kernelspec": {
   "display_name": "Python 3",
   "language": "python",
   "name": "python3"
  },
  "language_info": {
   "codemirror_mode": {
    "name": "ipython",
    "version": 3
   },
   "file_extension": ".py",
   "mimetype": "text/x-python",
   "name": "python",
   "nbconvert_exporter": "python",
   "pygments_lexer": "ipython3",
   "version": "3.8.5"
  }
 },
 "nbformat": 4,
 "nbformat_minor": 4
}
