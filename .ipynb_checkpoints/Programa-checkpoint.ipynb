{
 "cells": [
  {
   "cell_type": "code",
   "execution_count": 66,
   "metadata": {},
   "outputs": [],
   "source": [
    "from astropy.io import ascii\n",
    "import numpy as np\n",
    "import gurobipy as gp\n",
    "Placa_madre = ascii.read(\"Opti - Placa Madre (1).dat\")\n",
    "Memorias = ascii.read(\"Opti - RAM (2).dat\")\n",
    "Almacenamiento = ascii.read(\"Opti - Almacenamiento (3).dat\")\n",
    "Procesador = ascii.read(\"Opti - Procesador (4).dat\")\n",
    "Fuente_de_poder = ascii.read(\"Opti - Fuente de poder (5).dat\")\n",
    "Tarjeta_de_video = ascii.read(\"Opti - Tarjeta de video (6).dat\")"
   ]
  },
  {
   "cell_type": "code",
   "execution_count": 68,
   "metadata": {},
   "outputs": [
    {
     "data": {
      "text/html": [
       "<i>Table length=48</i>\n",
       "<table id=\"table1178063758864\" class=\"table-striped table-bordered table-condensed\">\n",
       "<thead><tr><th>ID</th><th>MARCA</th><th>GPU</th><th>STOCK 1</th><th>STOCK 2</th><th>PRECIO($)</th><th>TIPO DE MEMORIA</th><th>TAMAÃ‘O DE MEMORIA (GB)</th><th>CONSUMO (W)</th></tr></thead>\n",
       "<thead><tr><th>int32</th><th>str8</th><th>str6</th><th>int32</th><th>int32</th><th>float64</th><th>str5</th><th>int32</th><th>str3</th></tr></thead>\n",
       "<tr><td>--</td><td>Galax</td><td>NVIDIA</td><td>10</td><td>--</td><td>49.99</td><td>DDR3</td><td>1</td><td>300</td></tr>\n",
       "<tr><td>--</td><td>Gigabyte</td><td>NVIDIA</td><td>100</td><td>--</td><td>52.19</td><td>GDDR5</td><td>2</td><td>300</td></tr>\n",
       "<tr><td>--</td><td>MSI</td><td>NVIDIA</td><td>13</td><td>--</td><td>54.99</td><td>DDR3</td><td>1</td><td>19</td></tr>\n",
       "<tr><td>--</td><td>Galax</td><td>NVIDIA</td><td>2</td><td>--</td><td>59.99</td><td>DDR3</td><td>2</td><td>300</td></tr>\n",
       "<tr><td>--</td><td>Asus</td><td>NVIDIA</td><td>100</td><td>--</td><td>59.99</td><td>GDDR5</td><td>1</td><td>-</td></tr>\n",
       "<tr><td>--</td><td>Asus</td><td>NVIDIA</td><td>10</td><td>--</td><td>64.99</td><td>GDDR5</td><td>2</td><td>-</td></tr>\n",
       "<tr><td>--</td><td>Asus</td><td>AMD</td><td>1</td><td>--</td><td>69.99</td><td>GDDR3</td><td>2</td><td>75</td></tr>\n",
       "<tr><td>--</td><td>PNY</td><td>NVIDIA</td><td>20</td><td>--</td><td>139.99</td><td>-</td><td>2</td><td>-</td></tr>\n",
       "<tr><td>--</td><td>MSI</td><td>AMD</td><td>3</td><td>--</td><td>159.99</td><td>GDDR5</td><td>4</td><td>150</td></tr>\n",
       "<tr><td>--</td><td>AMD</td><td>AMD</td><td>7</td><td>--</td><td>163.39</td><td>GDDR5</td><td>2</td><td>-</td></tr>\n",
       "<tr><td>...</td><td>...</td><td>...</td><td>...</td><td>...</td><td>...</td><td>...</td><td>...</td><td>...</td></tr>\n",
       "<tr><td>--</td><td>Gigabyte</td><td>NVIDIA</td><td>1</td><td>--</td><td>279.99</td><td>GDDR5</td><td>6</td><td>-</td></tr>\n",
       "<tr><td>--</td><td>PNY</td><td>NVIDIA</td><td>50</td><td>--</td><td>289.99</td><td>GDDR6</td><td>6</td><td>125</td></tr>\n",
       "<tr><td>--</td><td>MSI</td><td>NVIDIA</td><td>100</td><td>--</td><td>299.99</td><td>GDDR6</td><td>6</td><td>125</td></tr>\n",
       "<tr><td>--</td><td>Asus</td><td>NVIDIA</td><td>50</td><td>--</td><td>299.99</td><td>GDDR6</td><td>6</td><td>450</td></tr>\n",
       "<tr><td>--</td><td>PNY</td><td>NVIDIA</td><td>2</td><td>--</td><td>309.99</td><td>GDDR6</td><td>6</td><td>-</td></tr>\n",
       "<tr><td>--</td><td>Asus</td><td>NVIDIA</td><td>29</td><td>--</td><td>369.99</td><td>GDDR6</td><td>6</td><td>450</td></tr>\n",
       "<tr><td>--</td><td>MSI</td><td>NVIDIA</td><td>11</td><td>--</td><td>369.99</td><td>GDDR6</td><td>6</td><td>120</td></tr>\n",
       "<tr><td>--</td><td>Asus</td><td>NVIDIA</td><td>50</td><td>--</td><td>374.99</td><td>GDDR6</td><td>6</td><td>450</td></tr>\n",
       "<tr><td>--</td><td>Asus</td><td>AMD</td><td>50</td><td>--</td><td>379.99</td><td>GDDR6</td><td>6</td><td>450</td></tr>\n",
       "<tr><td>--</td><td>MSI</td><td>NVIDIA</td><td>3</td><td>--</td><td>379.99</td><td>GDDR6</td><td>6</td><td>130</td></tr>\n",
       "</table>"
      ],
      "text/plain": [
       "<Table length=48>\n",
       "  ID   MARCA    GPU   ... TIPO DE MEMORIA TAMAÃ‘O DE MEMORIA (GB) CONSUMO (W)\n",
       "int32   str8    str6  ...       str5               int32              str3   \n",
       "----- -------- ------ ... --------------- ----------------------- -----------\n",
       "   --    Galax NVIDIA ...            DDR3                       1         300\n",
       "   -- Gigabyte NVIDIA ...           GDDR5                       2         300\n",
       "   --      MSI NVIDIA ...            DDR3                       1          19\n",
       "   --    Galax NVIDIA ...            DDR3                       2         300\n",
       "   --     Asus NVIDIA ...           GDDR5                       1           -\n",
       "   --     Asus NVIDIA ...           GDDR5                       2           -\n",
       "   --     Asus    AMD ...           GDDR3                       2          75\n",
       "   --      PNY NVIDIA ...               -                       2           -\n",
       "   --      MSI    AMD ...           GDDR5                       4         150\n",
       "   --      AMD    AMD ...           GDDR5                       2           -\n",
       "  ...      ...    ... ...             ...                     ...         ...\n",
       "   -- Gigabyte NVIDIA ...           GDDR5                       6           -\n",
       "   --      PNY NVIDIA ...           GDDR6                       6         125\n",
       "   --      MSI NVIDIA ...           GDDR6                       6         125\n",
       "   --     Asus NVIDIA ...           GDDR6                       6         450\n",
       "   --      PNY NVIDIA ...           GDDR6                       6           -\n",
       "   --     Asus NVIDIA ...           GDDR6                       6         450\n",
       "   --      MSI NVIDIA ...           GDDR6                       6         120\n",
       "   --     Asus NVIDIA ...           GDDR6                       6         450\n",
       "   --     Asus    AMD ...           GDDR6                       6         450\n",
       "   --      MSI NVIDIA ...           GDDR6                       6         130"
      ]
     },
     "execution_count": 68,
     "metadata": {},
     "output_type": "execute_result"
    }
   ],
   "source": [
    "Tarjeta_de_video"
   ]
  },
  {
   "cell_type": "code",
   "execution_count": 44,
   "metadata": {},
   "outputs": [
    {
     "name": "stdout",
     "output_type": "stream",
     "text": [
      "13890\n",
      "19990\n",
      "21090\n"
     ]
    }
   ],
   "source": [
    "for i in Mems['Precio ($)']:\n",
    "    print(i)\n",
    "    \n",
    "    "
   ]
  },
  {
   "cell_type": "code",
   "execution_count": 35,
   "metadata": {},
   "outputs": [
    {
     "data": {
      "text/plain": [
       "7"
      ]
     },
     "execution_count": 35,
     "metadata": {},
     "output_type": "execute_result"
    }
   ],
   "source": [
    "len(data[0])"
   ]
  },
  {
   "cell_type": "code",
   "execution_count": null,
   "metadata": {},
   "outputs": [],
   "source": []
  }
 ],
 "metadata": {
  "kernelspec": {
   "display_name": "Python 3",
   "language": "python",
   "name": "python3"
  },
  "language_info": {
   "codemirror_mode": {
    "name": "ipython",
    "version": 3
   },
   "file_extension": ".py",
   "mimetype": "text/x-python",
   "name": "python",
   "nbconvert_exporter": "python",
   "pygments_lexer": "ipython3",
   "version": "3.8.5"
  }
 },
 "nbformat": 4,
 "nbformat_minor": 4
}
